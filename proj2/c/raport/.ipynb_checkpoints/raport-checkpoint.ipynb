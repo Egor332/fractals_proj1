{
 "cells": [
  {
   "cell_type": "markdown",
   "id": "03d7750a-a5a1-4626-9522-4d2de302475b",
   "metadata": {},
   "source": [
    "**Perkolacja**\n",
    "\n",
    "Perkolacja to podstawowa koncepcja w fizyce statystycznej i matematyce, która bada powstawanie i zachowanie połączonych klastrów w systemach losowych. Pozwala zrozumieć, w jaki sposób rozmieszczenie poszczególnych komponentów w sieci może prowadzić do pojawienia się łączoncyh klastrów na dużą skalę. Głównym pytaniem w teorii perkolacji jest to, czy klaster łączący - taki, który łączy przeciwległe strony systemu - może powstać, gdy losowość systemu jest zdefiniowana.\n",
    "\n",
    "Perkolacja obejmuje dwa kluczowe procesy: perkolację wierzchołków i perkolację krawędzi. W przypadku perkolacji wierzchołków, wierzchołki sieci są losowo zajmowane lub niezajmowane w oparciu o prawdopodobieństwo $p$. W przypadku perkolacji krawędziowej, między sąsiednimi wierzchołkami krawędzie są tworzone niezależnie z prawdopodobieństwem $p$. \n",
    "\n",
    "Ponieważ $p$ rośnie, prawdopodobieństwo utworzenia większych klastrów rośnie, a po przekroczeniu krytycznego progu $p_c$ prawie na pewno pojawi się klaster łączący odległe części systemu. Przejście to następuje szybko z tego powodu jest często porównywane do przejść fazowych w układach fizycznych, takich jak przejście między stanem ciekłym i stałym."
   ]
  }
 ],
 "metadata": {
  "kernelspec": {
   "display_name": "Python 3 (ipykernel)",
   "language": "python",
   "name": "python3"
  },
  "language_info": {
   "codemirror_mode": {
    "name": "ipython",
    "version": 3
   },
   "file_extension": ".py",
   "mimetype": "text/x-python",
   "name": "python",
   "nbconvert_exporter": "python",
   "pygments_lexer": "ipython3",
   "version": "3.11.7"
  }
 },
 "nbformat": 4,
 "nbformat_minor": 5
}
