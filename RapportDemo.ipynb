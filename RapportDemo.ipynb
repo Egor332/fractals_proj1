{
 "cells": [
  {
   "cell_type": "markdown",
   "id": "19402cce-cea8-41a5-9535-79316a87a4ae",
   "metadata": {},
   "source": [
    "Treść o zwykłej kostce Mengera"
   ]
  },
  {
   "cell_type": "code",
   "execution_count": 23,
   "id": "f6f1e05c-2ab0-4414-a30b-1cfb55b52b7f",
   "metadata": {},
   "outputs": [],
   "source": [
    "import plotly.graph_objects as go\n",
    "from IPython.display import display, Math, Latex"
   ]
  },
  {
   "cell_type": "code",
   "execution_count": 46,
   "id": "9bc41e8e-40ed-480c-b148-26541eaf8c79",
   "metadata": {},
   "outputs": [],
   "source": [
    "def make_cube(x, y, z, size):\n",
    "    # array of cube vertecies\n",
    "    cube = [\n",
    "        [x, y, z],\n",
    "        [x + size, y, z],\n",
    "        [x + size, y + size, z],\n",
    "        [x, y + size, z],\n",
    "        [x, y, z + size], \n",
    "        [x + size, y, z + size],\n",
    "        [x + size, y + size, z + size],\n",
    "        [x, y + size, z + size]\n",
    "    ]\n",
    "\n",
    "    # plotly is only can draw triangle faces, so we make a \"square\" face, by separating it on two triangle ones\n",
    "    faces = [\n",
    "        [cube[0], cube[1], cube[5]],\n",
    "        [cube[0], cube[5], cube[4]],\n",
    "        [cube[2], cube[3], cube[7]],\n",
    "        [cube[2], cube[7], cube[6]],\n",
    "        [cube[0], cube[3], cube[7]],\n",
    "        [cube[0], cube[7], cube[4]],\n",
    "        [cube[1], cube[2], cube[6]],\n",
    "        [cube[1], cube[6], cube[5]],\n",
    "        [cube[0], cube[1], cube[2]],\n",
    "        [cube[0], cube[2], cube[3]],\n",
    "        [cube[4], cube[5], cube[6]],\n",
    "        [cube[4], cube[6], cube[7]]\n",
    "    ]\n",
    "    return faces\n",
    "\n",
    "def draw_faces(faces):\n",
    "    \n",
    "    x_vals, y_vals, z_vals, i_vals, j_vals, k_vals = [], [], [], [], [], []\n",
    "\n",
    "    for it, face in enumerate(faces):\n",
    "        for vertex in face:\n",
    "            x_vals.append(vertex[0])\n",
    "            y_vals.append(vertex[1])\n",
    "            z_vals.append(vertex[2])\n",
    "        if len(i_vals) < len(x_vals): # kind of strange stuf, still can't get what the porpouse of this if (it seems that without it, and with for we are getting the same result)\n",
    "            i_vals.append(3*it)\n",
    "            j_vals.append(3*it + 1)\n",
    "            k_vals.append(3*it + 2)\n",
    "\n",
    "    mesh = go.Mesh3d(x=x_vals, y=y_vals, z=z_vals,\n",
    "                     i=i_vals, j=j_vals, k=k_vals, facecolor=['cyan']*len(i_vals))\n",
    "    layout = go.Layout(scene=dict(aspectmode=\"cube\"))\n",
    "    figure = go.Figure(data=[mesh], layout=layout)\n",
    "    figure.show()"
   ]
  },
  {
   "cell_type": "code",
   "execution_count": 45,
   "id": "b88313cd-da3f-4d91-86be-eba145e5fc92",
   "metadata": {},
   "outputs": [],
   "source": [
    "def menger_cube(x, y, z, size, iterations):\n",
    "    if (iterations == 0):\n",
    "        return make_cube(x, y, z, size)\n",
    "\n",
    "    size = size / 3\n",
    "    faces = []\n",
    "\n",
    "    for i in range(3):\n",
    "        for j in range(3):\n",
    "            for k in range(3):\n",
    "                if (((i == 1) and (j == 1)) or ((i == 1) and (k == 1)) or ((j == 1) and (k == 1))):\n",
    "                    continue\n",
    "                faces.extend(menger_cube(x + size*i, y + size*j, z + size*k, size, iterations-1))\n",
    "\n",
    "    return faces"
   ]
  },
  {
   "cell_type": "code",
   "execution_count": 5,
   "id": "4e0c455f-3ebe-450d-b73a-ab7436d45c1e",
   "metadata": {},
   "outputs": [
    {
     "ename": "NameError",
     "evalue": "name 'draw_faces' is not defined",
     "output_type": "error",
     "traceback": [
      "\u001b[1;31m---------------------------------------------------------------------------\u001b[0m",
      "\u001b[1;31mNameError\u001b[0m                                 Traceback (most recent call last)",
      "Cell \u001b[1;32mIn[5], line 1\u001b[0m\n\u001b[1;32m----> 1\u001b[0m draw_faces(menger_cube(\u001b[38;5;241m0\u001b[39m, \u001b[38;5;241m0\u001b[39m, \u001b[38;5;241m0\u001b[39m, \u001b[38;5;241m1\u001b[39m, \u001b[38;5;241m0\u001b[39m))\n\u001b[0;32m      2\u001b[0m draw_faces(menger_cube(\u001b[38;5;241m0\u001b[39m, \u001b[38;5;241m0\u001b[39m, \u001b[38;5;241m0\u001b[39m, \u001b[38;5;241m1\u001b[39m, \u001b[38;5;241m1\u001b[39m))\n\u001b[0;32m      3\u001b[0m draw_faces(menger_cube(\u001b[38;5;241m0\u001b[39m, \u001b[38;5;241m0\u001b[39m, \u001b[38;5;241m0\u001b[39m, \u001b[38;5;241m1\u001b[39m, \u001b[38;5;241m2\u001b[39m))\n",
      "\u001b[1;31mNameError\u001b[0m: name 'draw_faces' is not defined"
     ]
    }
   ],
   "source": [
    "draw_faces(menger_cube(0, 0, 0, 1, 0))\n",
    "draw_faces(menger_cube(0, 0, 0, 1, 1))\n",
    "draw_faces(menger_cube(0, 0, 0, 1, 2))\n",
    "draw_faces(menger_cube(0, 0, 0, 1, 3))\n",
    "draw_faces(menger_cube(0, 0, 0, 1, 4))"
   ]
  },
  {
   "cell_type": "markdown",
   "id": "64b71da7-2b54-4218-bb47-27099138a78a",
   "metadata": {},
   "source": [
    "Treść zamykająca o złykłej kostce mengego"
   ]
  },
  {
   "cell_type": "markdown",
   "id": "e2c5d2b6-39d9-4cea-8432-aff54f04d789",
   "metadata": {},
   "source": [
    "Modyfikacja: Odwrotna Kostka Mengera.\n",
    "\n",
    "Pobudujmy fraktal odwrotny do kostki Mengera. Dlatego będziemy posługiwali następującym algorytmem:\n",
    "1. Dostajemy sześcian i dzielimy go na 27 trzykrotnie mniejszych.\n",
    "2. Usuwamy wszystkie małe szściany oprócz sześcianów wewnętrznych dla każdej powierzchni oraz sześcianu wewnętrznego dla wielkiego sześcianu.\n",
    "3. Dla pozostałych sześcianów wykonujemy punkt 1.\n",
    "\n",
    "Policzmy wymiar Hausdorfa takeigo fraktalu: $$\n",
    "H^{s}(F) = 7H^{s}(E)\n",
    "$$\n",
    "$$\n",
    "H^{s}(F) = 3^{s}H^{s}(E)\n",
    "$$\n",
    "$$\n",
    "3^{s} = 7\n",
    "$$\n",
    "$$\n",
    "ln(3^{s}) = ln(7)\n",
    "$$\n",
    "$$\n",
    "s = \\frac{ln(7)}{ln(3)} \\approx 1.771244\n",
    "$$\n"
   ]
  },
  {
   "cell_type": "code",
   "execution_count": 51,
   "id": "dc684ed7-5f5c-4e2d-ad9c-a38d702099e2",
   "metadata": {},
   "outputs": [],
   "source": [
    "def reversed_menger_cube(x, y, z, size, iterations):\n",
    "    if (iterations == 0):\n",
    "        return make_cube(x, y, z, size)\n",
    "\n",
    "    size = size / 3\n",
    "    faces = []\n",
    "\n",
    "    for i in range(3):\n",
    "        for j in range(3):\n",
    "            for k in range(3):\n",
    "                if (not(((i == 1) and (j == 1)) or ((i == 1) and (k == 1)) or ((j == 1) and (k == 1)))):\n",
    "                    continue\n",
    "                faces.extend(reversed_menger_cube(x + size*i, y + size*j, z + size*k, size, iterations-1))\n",
    "\n",
    "    return faces"
   ]
  },
  {
   "cell_type": "code",
   "execution_count": 4,
   "id": "f2ae1bcb-5a07-4354-9111-311014d81f3a",
   "metadata": {
    "scrolled": true
   },
   "outputs": [
    {
     "ename": "NameError",
     "evalue": "name 'draw_faces' is not defined",
     "output_type": "error",
     "traceback": [
      "\u001b[1;31m---------------------------------------------------------------------------\u001b[0m",
      "\u001b[1;31mNameError\u001b[0m                                 Traceback (most recent call last)",
      "Cell \u001b[1;32mIn[4], line 1\u001b[0m\n\u001b[1;32m----> 1\u001b[0m draw_faces(reversed_menger_cube(\u001b[38;5;241m0\u001b[39m, \u001b[38;5;241m0\u001b[39m, \u001b[38;5;241m0\u001b[39m, \u001b[38;5;241m1\u001b[39m, \u001b[38;5;241m1\u001b[39m))\n\u001b[0;32m      2\u001b[0m draw_faces(reversed_menger_cube(\u001b[38;5;241m0\u001b[39m, \u001b[38;5;241m0\u001b[39m, \u001b[38;5;241m0\u001b[39m, \u001b[38;5;241m1\u001b[39m, \u001b[38;5;241m2\u001b[39m))\n\u001b[0;32m      3\u001b[0m draw_faces(reversed_menger_cube(\u001b[38;5;241m0\u001b[39m, \u001b[38;5;241m0\u001b[39m, \u001b[38;5;241m0\u001b[39m, \u001b[38;5;241m1\u001b[39m, \u001b[38;5;241m3\u001b[39m))\n",
      "\u001b[1;31mNameError\u001b[0m: name 'draw_faces' is not defined"
     ]
    }
   ],
   "source": [
    "draw_faces(reversed_menger_cube(0, 0, 0, 1, 1))\n",
    "draw_faces(reversed_menger_cube(0, 0, 0, 1, 2))\n",
    "draw_faces(reversed_menger_cube(0, 0, 0, 1, 3))\n",
    "draw_faces(reversed_menger_cube(0, 0, 0, 1, 4))"
   ]
  },
  {
   "cell_type": "markdown",
   "id": "e98b478d-218c-4a34-9e53-3f54c7a6aa7f",
   "metadata": {},
   "source": [
    "Modyfikacja: płatek śniegu Mosely\r\n",
    "\r\n",
    "Dla generacji takiego fraktalu musimy posługiwać się następnym algorytmem:\r\n",
    "1. Dostajemy sześcian i dzielimy go na 27 trzykrotnie mniejszych.\r\n",
    "2. Usuwamy małe sześciany znajdujące się w rogach większego sześcianu i sześcian wewnętrzny.\r\n",
    "3. Dla pozostałych sześcianów wykonujemy punkt 1.\r\n",
    "\r\n",
    "Policzmy wymiar Hausdorfa takiego fraktalu:: $$\n",
    "H^{s}(F) = 19H^{s}(E)\n",
    "$$\n",
    "$$\n",
    "H^{s}(F) = 3^{s}H^{s}(E)\n",
    "$$\n",
    "$$\n",
    "3^{s} = 19\n",
    "$$\n",
    "$$\n",
    "ln(3^{s}) = ln(19)\n",
    "$$\n",
    "$$\n",
    "s = \\frac{ln(19)}{ln(3)} \\approx 2.680143\n",
    "$$\n",
    "\n"
   ]
  },
  {
   "cell_type": "code",
   "execution_count": 53,
   "id": "89ce1a36-b083-44db-875a-d007953fa0f2",
   "metadata": {},
   "outputs": [],
   "source": [
    "def mosely_snowflake(x, y, z, size, iterations):\n",
    "    if (iterations == 0):\n",
    "        return make_cube(x, y, z, size)\n",
    "\n",
    "    size = size / 3\n",
    "    faces = []\n",
    "\n",
    "    for i in range(3):\n",
    "        for j in range(3):\n",
    "            for k in range(3):\n",
    "                if ((((i == 0 or i == 2) and (j == 0 or j == 2) and (k == 0 or k == 2))) or (i == 1 and j == 1 and k == 1)):\n",
    "                    continue\n",
    "                faces.extend(mosely_snowflake(x + size*i, y + size*j, z + size*k, size, iterations-1))\n",
    "\n",
    "    return faces"
   ]
  },
  {
   "cell_type": "code",
   "execution_count": 3,
   "id": "8a021909-f8f6-4941-9014-b38edf0e02f8",
   "metadata": {
    "scrolled": true
   },
   "outputs": [
    {
     "ename": "NameError",
     "evalue": "name 'draw_faces' is not defined",
     "output_type": "error",
     "traceback": [
      "\u001b[1;31m---------------------------------------------------------------------------\u001b[0m",
      "\u001b[1;31mNameError\u001b[0m                                 Traceback (most recent call last)",
      "Cell \u001b[1;32mIn[3], line 1\u001b[0m\n\u001b[1;32m----> 1\u001b[0m draw_faces(mosely_snowflake(\u001b[38;5;241m0\u001b[39m, \u001b[38;5;241m0\u001b[39m, \u001b[38;5;241m0\u001b[39m, \u001b[38;5;241m1\u001b[39m, \u001b[38;5;241m1\u001b[39m))\n\u001b[0;32m      2\u001b[0m draw_faces(mosely_snowflake(\u001b[38;5;241m0\u001b[39m, \u001b[38;5;241m0\u001b[39m, \u001b[38;5;241m0\u001b[39m, \u001b[38;5;241m1\u001b[39m, \u001b[38;5;241m2\u001b[39m))\n\u001b[0;32m      3\u001b[0m draw_faces(mosely_snowflake(\u001b[38;5;241m0\u001b[39m, \u001b[38;5;241m0\u001b[39m, \u001b[38;5;241m0\u001b[39m, \u001b[38;5;241m1\u001b[39m, \u001b[38;5;241m3\u001b[39m))\n",
      "\u001b[1;31mNameError\u001b[0m: name 'draw_faces' is not defined"
     ]
    }
   ],
   "source": [
    "draw_faces(mosely_snowflake(0, 0, 0, 1, 1))\n",
    "draw_faces(mosely_snowflake(0, 0, 0, 1, 2))\n",
    "draw_faces(mosely_snowflake(0, 0, 0, 1, 3))"
   ]
  },
  {
   "cell_type": "markdown",
   "id": "96526ebb-d15f-4c27-86d1-69a173c75cd1",
   "metadata": {},
   "source": [
    "Modyfikacja: Płatek śniegu Sierpińskiego-Mengera\r\n",
    "\r\n",
    "Aby pobudować taki fraktal, będziemy używać następnego algorytmu:\r\n",
    "1. Dostajemy sześcian i dzielimy go na 27 mniejszych sześcianów.\r\n",
    "2. Zostawiamy sześciany znajdujące w rogach początkowego sześcianu i na sześcian wewnętrzny, pozostałe sześciany usuwamy.\r\n",
    "3. Dla pozostałych sześcianów wykonujemy punkt 1.\r\n",
    "\r\n",
    "Policzmy wymiar Hausdorfa takiego fraktalu: $$\n",
    "H^{s}(F) = 9H^{s}(E)\n",
    "$$\n",
    "$$\n",
    "H^{s}(F) = (3)^{s}H^{s}(E)\n",
    "$$\n",
    "$$\n",
    "(3)^{s} = 9\n",
    "$$\n",
    "$$\n",
    "ln(3^{s}) = ln(9)\n",
    "$$\n",
    "$$\n",
    "s = \\frac{ln(9)}{ln(3)} = 2\n",
    "$$\n"
   ]
  },
  {
   "cell_type": "code",
   "execution_count": 55,
   "id": "73230ef0-00fc-4357-ab2d-de411daad06e",
   "metadata": {},
   "outputs": [],
   "source": [
    "def sierpinski_menger_snowflake(x, y, z, size, iterations): # to change\n",
    "    if (iterations == 0):\n",
    "        return make_cube(x, y, z, size)\n",
    "\n",
    "    faces = []\n",
    "    \n",
    "    size = size / 3\n",
    "    faces = []\n",
    "\n",
    "    for i in range(3):\n",
    "        for j in range(3):\n",
    "            for k in range(3):\n",
    "                if (not((((i == 0 or i == 2) and (j == 0 or j == 2) and (k == 0 or k == 2))) or (i == 1 and j == 1 and k == 1))):\n",
    "                    continue\n",
    "                faces.extend(sierpinski_menger_snowflake(x + size*i, y + size*j, z + size*k, size, iterations-1))\n",
    "\n",
    "    return faces"
   ]
  },
  {
   "cell_type": "code",
   "execution_count": 2,
   "id": "9cee7b3c-e967-46a8-b888-22a170904c61",
   "metadata": {
    "scrolled": true
   },
   "outputs": [
    {
     "ename": "NameError",
     "evalue": "name 'draw_faces' is not defined",
     "output_type": "error",
     "traceback": [
      "\u001b[1;31m---------------------------------------------------------------------------\u001b[0m",
      "\u001b[1;31mNameError\u001b[0m                                 Traceback (most recent call last)",
      "Cell \u001b[1;32mIn[2], line 1\u001b[0m\n\u001b[1;32m----> 1\u001b[0m draw_faces(sierpinski_menger_snowflake(\u001b[38;5;241m0\u001b[39m, \u001b[38;5;241m0\u001b[39m, \u001b[38;5;241m0\u001b[39m, \u001b[38;5;241m1\u001b[39m, \u001b[38;5;241m1\u001b[39m))\n\u001b[0;32m      2\u001b[0m draw_faces(sierpinski_menger_snowflake(\u001b[38;5;241m0\u001b[39m, \u001b[38;5;241m0\u001b[39m, \u001b[38;5;241m0\u001b[39m, \u001b[38;5;241m1\u001b[39m, \u001b[38;5;241m2\u001b[39m))\n\u001b[0;32m      3\u001b[0m draw_faces(sierpinski_menger_snowflake(\u001b[38;5;241m0\u001b[39m, \u001b[38;5;241m0\u001b[39m, \u001b[38;5;241m0\u001b[39m, \u001b[38;5;241m1\u001b[39m, \u001b[38;5;241m3\u001b[39m))\n",
      "\u001b[1;31mNameError\u001b[0m: name 'draw_faces' is not defined"
     ]
    }
   ],
   "source": [
    "draw_faces(sierpinski_menger_snowflake(0, 0, 0, 1, 1))\n",
    "draw_faces(sierpinski_menger_snowflake(0, 0, 0, 1, 2))\n",
    "draw_faces(sierpinski_menger_snowflake(0, 0, 0, 1, 3))\n",
    "draw_faces(sierpinski_menger_snowflake(0, 0, 0, 1, 4))"
   ]
  },
  {
   "cell_type": "markdown",
   "id": "50e2f1a0-4702-4664-b7a4-d9e856f21ab8",
   "metadata": {},
   "source": [
    "Modyfikacja: Kostka Jeruzalemska\n",
    "\n",
    "Sześcian jerozolimski to fraktalny obiekt opisany po raz pierwszy przez Erica Bairda w 2011 roku. Jest on tworzony przez rekurencyjne wiercenie otworów w kształcie krzyża greckiego w sześcianie. Konstrukcja jest podobna do gąbki Mengera, ale z dwoma sześcianami o różnych rozmiarach. Nazwa pochodzi od powierzchni sześcianu przypominającej wzór krzyża jerozolimskiego.\n",
    "\n",
    "Budowę kostki jerozolimskiej można opisać w następujący sposób:\n",
    "\n",
    "1. Dostajemy sześcian.\n",
    "\n",
    "2. Przetnij krzyż przez każdą stronę sześcianu, pozostawiając osiem sześcianów (o rzędzie +1) w rogach oryginalnego sześcianu, a także dwanaście mniejszych sześcianów (o rzędzie +2) wyśrodkowanych na krawędziach oryginalnego sześcianu między sześcianami o rzędzie +1.\n",
    "Powtórz ten proces dla sześcianów rzędu 1 i 2.\n",
    "\n",
    "3. Powtarzamy punkt 1.\n",
    "\n",
    "Policzmy wymiar Hausdorfa takeigo fraktalu: \n",
    "\n",
    "Ponieważ długość krawędzi sześcianu o rządzie N jest równa długości 2 sześcianów o rządzie N+1 i sześcianu o rządzie N+2, wynika z tego, że współczynnik skalowania musi spełniać następujące warunki: $ k^2 + 2k = 1 $, wtedy $ k = \\sqrt{2} - 1 $ \n",
    "\n",
    "Ponieważ sześcian o rzędzie N jest dzielony na 8 sześcianów o rzędzie N+1 i 12 o randze N+2, wymiar Hausdorffa musi zatem spełniać następujące warunki: $$\n",
    "8k^{s} + 12(k^2)^{s} = 1\n",
    "$$\n",
    "$$\n",
    "s = \\frac{ln(\\frac{\\sqrt{7}}{6} - \\frac{1}{3})}{ln(\\sqrt{2} - 1)} \\approx 2.529\n",
    "$$"
   ]
  },
  {
   "cell_type": "code",
   "execution_count": 57,
   "id": "72e7772b-d575-484f-8959-9f2ba9b4ba63",
   "metadata": {},
   "outputs": [],
   "source": [
    "def jerusalem_cube(x, y, z, size, iterations):\n",
    "    if (iterations == 0):\n",
    "        return make_cube(x, y, z, size)\n",
    "\n",
    "    # generate 8 biger cubes\n",
    "    faces = []\n",
    "\n",
    "    for i in range(2):\n",
    "        for j in range(2):\n",
    "            for k in range(2):                \n",
    "                faces.extend(jerusalem_cube(x + size*i*(3/5), y + size*j*(3/5), z + size*k*(3/5), (2/5)*size, iterations-1))\n",
    "\n",
    "    # generate 12 smaler cubes\n",
    "    size = size / 5\n",
    "    for k in [0, 4]:\n",
    "        faces.extend(jerusalem_cube(x, y + 2*size, z + k*size, size, iterations-1))\n",
    "        faces.extend(jerusalem_cube(x + 2*size, y, z + k*size, size, iterations-1))\n",
    "        faces.extend(jerusalem_cube(x + 2*size, y + 4*size, z + k*size, size, iterations-1))\n",
    "        faces.extend(jerusalem_cube(x + 4*size, y + 2*size, z + k*size, size, iterations-1))\n",
    "\n",
    "    faces.extend(jerusalem_cube(x, y + 4*size, z + 2*size, size, iterations-1))\n",
    "    faces.extend(jerusalem_cube(x, y, z + 2*size, size, iterations-1))\n",
    "    faces.extend(jerusalem_cube(x + 4*size, y, z + 2*size, size, iterations-1))\n",
    "    faces.extend(jerusalem_cube(x + 4*size, y + 4*size, z + 2*size, size, iterations-1))\n",
    "\n",
    "    return faces"
   ]
  },
  {
   "cell_type": "code",
   "execution_count": 1,
   "id": "2db59c58-9bea-4887-b26a-60363b04e431",
   "metadata": {},
   "outputs": [
    {
     "ename": "NameError",
     "evalue": "name 'draw_faces' is not defined",
     "output_type": "error",
     "traceback": [
      "\u001b[1;31m---------------------------------------------------------------------------\u001b[0m",
      "\u001b[1;31mNameError\u001b[0m                                 Traceback (most recent call last)",
      "Cell \u001b[1;32mIn[1], line 1\u001b[0m\n\u001b[1;32m----> 1\u001b[0m draw_faces(jerusalem_cube(\u001b[38;5;241m0\u001b[39m, \u001b[38;5;241m0\u001b[39m, \u001b[38;5;241m0\u001b[39m, \u001b[38;5;241m1\u001b[39m, \u001b[38;5;241m1\u001b[39m))\n\u001b[0;32m      2\u001b[0m draw_faces(jerusalem_cube(\u001b[38;5;241m0\u001b[39m, \u001b[38;5;241m0\u001b[39m, \u001b[38;5;241m0\u001b[39m, \u001b[38;5;241m1\u001b[39m, \u001b[38;5;241m2\u001b[39m))\n\u001b[0;32m      3\u001b[0m draw_faces(jerusalem_cube(\u001b[38;5;241m0\u001b[39m, \u001b[38;5;241m0\u001b[39m, \u001b[38;5;241m0\u001b[39m, \u001b[38;5;241m1\u001b[39m, \u001b[38;5;241m3\u001b[39m))\n",
      "\u001b[1;31mNameError\u001b[0m: name 'draw_faces' is not defined"
     ]
    }
   ],
   "source": [
    "draw_faces(jerusalem_cube(0, 0, 0, 1, 1))\n",
    "draw_faces(jerusalem_cube(0, 0, 0, 1, 2))\n",
    "draw_faces(jerusalem_cube(0, 0, 0, 1, 3))"
   ]
  },
  {
   "cell_type": "markdown",
   "id": "9ee48dfc-6668-4f97-a8ed-02194ae2b4a3",
   "metadata": {},
   "source": []
  }
 ],
 "metadata": {
  "kernelspec": {
   "display_name": "Python 3 (ipykernel)",
   "language": "python",
   "name": "python3"
  },
  "language_info": {
   "codemirror_mode": {
    "name": "ipython",
    "version": 3
   },
   "file_extension": ".py",
   "mimetype": "text/x-python",
   "name": "python",
   "nbconvert_exporter": "python",
   "pygments_lexer": "ipython3",
   "version": "3.11.7"
  }
 },
 "nbformat": 4,
 "nbformat_minor": 5
}
