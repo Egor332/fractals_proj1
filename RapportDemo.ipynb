{
 "cells": [
  {
   "cell_type": "markdown",
   "id": "19402cce-cea8-41a5-9535-79316a87a4ae",
   "metadata": {},
   "source": [
    "Treść o złykłej kostce Mengera"
   ]
  },
  {
   "cell_type": "code",
   "execution_count": 4,
   "id": "f6f1e05c-2ab0-4414-a30b-1cfb55b52b7f",
   "metadata": {},
   "outputs": [],
   "source": [
    "import plotly.graph_objects as go"
   ]
  },
  {
   "cell_type": "code",
   "execution_count": 5,
   "id": "9bc41e8e-40ed-480c-b148-26541eaf8c79",
   "metadata": {},
   "outputs": [],
   "source": [
    "def make_cube(x, y, z, size):\n",
    "    # array of cube vertecies\n",
    "    cube = [\n",
    "        [x, y, z],\n",
    "        [x + size, y, z],\n",
    "        [x + size, y + size, z],\n",
    "        [x, y + size, z],\n",
    "        [x, y, z + size], \n",
    "        [x + size, y, z + size],\n",
    "        [x + size, y + size, z + size],\n",
    "        [x, y + size, z + size]\n",
    "    ]\n",
    "\n",
    "    # plotly is only can draw triangle faces, so we make a \"square\" face, by separating it on two triangle ones\n",
    "    faces = [\n",
    "        [cube[0], cube[1], cube[5]],\n",
    "        [cube[0], cube[5], cube[4]],\n",
    "        [cube[2], cube[3], cube[7]],\n",
    "        [cube[2], cube[7], cube[6]],\n",
    "        [cube[0], cube[3], cube[7]],\n",
    "        [cube[0], cube[7], cube[4]],\n",
    "        [cube[1], cube[2], cube[6]],\n",
    "        [cube[1], cube[6], cube[5]],\n",
    "        [cube[0], cube[1], cube[2]],\n",
    "        [cube[0], cube[2], cube[3]],\n",
    "        [cube[4], cube[5], cube[6]],\n",
    "        [cube[4], cube[6], cube[7]]\n",
    "    ]\n",
    "    return faces"
   ]
  },
  {
   "cell_type": "code",
   "execution_count": 7,
   "id": "b88313cd-da3f-4d91-86be-eba145e5fc92",
   "metadata": {},
   "outputs": [],
   "source": [
    "def menger_cube(x, y, z, size, iterations):\n",
    "    if (iterations == 0):\n",
    "        return make_cube(x, y, z, size)\n",
    "\n",
    "    size = size / 3\n",
    "    faces = []\n",
    "\n",
    "    for i in range(3):\n",
    "        for j in range(3):\n",
    "            for k in range(3):\n",
    "                if (((i == 1) and (j == 1)) or ((i == 1) and (k == 1)) or ((j == 1) and (k == 1))):\n",
    "                    continue\n",
    "                faces.extend(menger_cube(x + size*i, y + size*j, z + size*k, size, iterations-1))\n",
    "\n",
    "    return faces\n",
    "\n",
    "def draw_menger_cube(iterations):\n",
    "    faces = menger_cube(0, 0, 0, 1, iterations)\n",
    "\n",
    "    x_vals, y_vals, z_vals, i_vals, j_vals, k_vals = [], [], [], [], [], []\n",
    "\n",
    "    for it, face in enumerate(faces):\n",
    "        for vertex in face:\n",
    "            x_vals.append(vertex[0])\n",
    "            y_vals.append(vertex[1])\n",
    "            z_vals.append(vertex[2])\n",
    "        if len(i_vals) < len(x_vals): # kind of strange stuf, still can't get what the porpouse of this if (it seems that without it, and with for we are getting the same result)\n",
    "            i_vals.append(3*it)\n",
    "            j_vals.append(3*it + 1)\n",
    "            k_vals.append(3*it + 2)\n",
    "\n",
    "    mesh = go.Mesh3d(x=x_vals, y=y_vals, z=z_vals,\n",
    "                     i=i_vals, j=j_vals, k=k_vals, facecolor=['cyan']*len(i_vals))\n",
    "    layout = go.Layout(scene=dict(aspectmode=\"cube\"))\n",
    "    figure = go.Figure(data=[mesh], layout=layout)\n",
    "    figure.show()"
   ]
  },
  {
   "cell_type": "code",
   "execution_count": null,
   "id": "4e0c455f-3ebe-450d-b73a-ab7436d45c1e",
   "metadata": {},
   "outputs": [],
   "source": [
    "draw_menger_cube(0)\n",
    "draw_menger_cube(1)\n",
    "draw_menger_cube(2)\n",
    "draw_menger_cube(3)\n",
    "draw_menger_cube(4)"
   ]
  },
  {
   "cell_type": "markdown",
   "id": "64b71da7-2b54-4218-bb47-27099138a78a",
   "metadata": {},
   "source": [
    "Treść zamykająca o złykłej kostce mengego"
   ]
  },
  {
   "cell_type": "markdown",
   "id": "e2c5d2b6-39d9-4cea-8432-aff54f04d789",
   "metadata": {},
   "source": [
    "Modyfikacja: odwrotna kostka mengego"
   ]
  },
  {
   "cell_type": "code",
   "execution_count": 11,
   "id": "dc684ed7-5f5c-4e2d-ad9c-a38d702099e2",
   "metadata": {},
   "outputs": [],
   "source": [
    "def reversed_menger_cube(x, y, z, size, iterations):\n",
    "    if (iterations == 0):\n",
    "        return make_cube(x, y, z, size)\n",
    "\n",
    "    size = size / 3\n",
    "    faces = []\n",
    "\n",
    "    for i in range(3):\n",
    "        for j in range(3):\n",
    "            for k in range(3):\n",
    "                if (not(((i == 1) and (j == 1)) or ((i == 1) and (k == 1)) or ((j == 1) and (k == 1)))):\n",
    "                    continue\n",
    "                faces.extend(reversed_menger_cube(x + size*i, y + size*j, z + size*k, size, iterations-1))\n",
    "\n",
    "    return faces\n",
    "    \n",
    "def draw_reversed_menger_cube(iterations):\n",
    "    faces = reversed_menger_cube(0, 0, 0, 1, iterations)\n",
    "\n",
    "    x_vals, y_vals, z_vals, i_vals, j_vals, k_vals = [], [], [], [], [], []\n",
    "\n",
    "    for it, face in enumerate(faces):\n",
    "        for vertex in face:\n",
    "            x_vals.append(vertex[0])\n",
    "            y_vals.append(vertex[1])\n",
    "            z_vals.append(vertex[2])\n",
    "        if len(i_vals) < len(x_vals): # kind of strange stuf, still can't get what the porpouse of this if (it seems that without it, and with for we are getting the same result)\n",
    "            i_vals.append(3*it)\n",
    "            j_vals.append(3*it + 1)\n",
    "            k_vals.append(3*it + 2)\n",
    "\n",
    "    mesh = go.Mesh3d(x=x_vals, y=y_vals, z=z_vals,\n",
    "                     i=i_vals, j=j_vals, k=k_vals, facecolor=['cyan']*len(i_vals))\n",
    "    layout = go.Layout(scene=dict(aspectmode=\"cube\"))\n",
    "    figure = go.Figure(data=[mesh], layout=layout)\n",
    "    figure.show()"
   ]
  },
  {
   "cell_type": "code",
   "execution_count": null,
   "id": "f2ae1bcb-5a07-4354-9111-311014d81f3a",
   "metadata": {},
   "outputs": [],
   "source": [
    "draw_reversed_menger_cube(1)\n",
    "draw_reversed_menger_cube(2)\n",
    "draw_reversed_menger_cube(3)\n",
    "draw_reversed_menger_cube(4)"
   ]
  },
  {
   "cell_type": "markdown",
   "id": "96526ebb-d15f-4c27-86d1-69a173c75cd1",
   "metadata": {},
   "source": [
    "Modyfikacja: demo jeruzalemska"
   ]
  },
  {
   "cell_type": "code",
   "execution_count": 17,
   "id": "73230ef0-00fc-4357-ab2d-de411daad06e",
   "metadata": {},
   "outputs": [],
   "source": [
    "def half_jerusalem_cube(x, y, z, size, iterations): # to change\n",
    "    if (iterations == 0):\n",
    "        return make_cube(x, y, z, size)\n",
    "\n",
    "    # generate 8 biger cubes\n",
    "    faces = []\n",
    "\n",
    "    for i in range(2):\n",
    "        for j in range(2):\n",
    "            for k in range(2):                \n",
    "                faces.extend(half_jerusalem_cube(x + size*i*(3/5), y + size*j*(3/5), z + size*k*(3/5), (2/5)*size, iterations-1))\n",
    "    return faces\n",
    "\n",
    "def draw_half_jerusalem_cube(iterations):\n",
    "    faces = half_jerusalem_cube(0, 0, 0, 1, iterations)\n",
    "\n",
    "    x_vals, y_vals, z_vals, i_vals, j_vals, k_vals = [], [], [], [], [], []\n",
    "\n",
    "    for it, face in enumerate(faces):\n",
    "        for vertex in face:\n",
    "            x_vals.append(vertex[0])\n",
    "            y_vals.append(vertex[1])\n",
    "            z_vals.append(vertex[2])\n",
    "        if len(i_vals) < len(x_vals):\n",
    "            i_vals.append(3*it)\n",
    "            j_vals.append(3*it + 1)\n",
    "            k_vals.append(3*it + 2)\n",
    "\n",
    "    mesh = go.Mesh3d(x=x_vals, y=y_vals, z=z_vals,\n",
    "                     i=i_vals, j=j_vals, k=k_vals, facecolor=['cyan']*len(i_vals))\n",
    "    layout = go.Layout(scene=dict(aspectmode=\"cube\"))\n",
    "    figure = go.Figure(data=[mesh], layout=layout)\n",
    "    figure.show()"
   ]
  },
  {
   "cell_type": "code",
   "execution_count": null,
   "id": "9cee7b3c-e967-46a8-b888-22a170904c61",
   "metadata": {},
   "outputs": [],
   "source": [
    "draw_half_jerusalem_cube(1)\n",
    "draw_half_jerusalem_cube(2)\n",
    "draw_half_jerusalem_cube(3)\n",
    "draw_half_jerusalem_cube(4)"
   ]
  },
  {
   "cell_type": "markdown",
   "id": "50e2f1a0-4702-4664-b7a4-d9e856f21ab8",
   "metadata": {},
   "source": [
    "Modyfikacja: Kostka Jeruzalemska"
   ]
  },
  {
   "cell_type": "code",
   "execution_count": 18,
   "id": "72e7772b-d575-484f-8959-9f2ba9b4ba63",
   "metadata": {},
   "outputs": [],
   "source": [
    "def jerusalem_cube(x, y, z, size, iterations):\n",
    "    if (iterations == 0):\n",
    "        return make_cube(x, y, z, size)\n",
    "\n",
    "    # generate 8 biger cubes\n",
    "    faces = []\n",
    "\n",
    "    for i in range(2):\n",
    "        for j in range(2):\n",
    "            for k in range(2):                \n",
    "                faces.extend(jerusalem_cube(x + size*i*(3/5), y + size*j*(3/5), z + size*k*(3/5), (2/5)*size, iterations-1))\n",
    "\n",
    "    # generate 12 smaler cubes\n",
    "    size = size / 5\n",
    "    for k in [0, 4]:\n",
    "        faces.extend(jerusalem_cube(x, y + 2*size, z + k*size, size, iterations-1))\n",
    "        faces.extend(jerusalem_cube(x + 2*size, y, z + k*size, size, iterations-1))\n",
    "        faces.extend(jerusalem_cube(x + 2*size, y + 4*size, z + k*size, size, iterations-1))\n",
    "        faces.extend(jerusalem_cube(x + 4*size, y + 2*size, z + k*size, size, iterations-1))\n",
    "\n",
    "    faces.extend(jerusalem_cube(x, y + 4*size, z + 2*size, size, iterations-1))\n",
    "    faces.extend(jerusalem_cube(x, y, z + 2*size, size, iterations-1))\n",
    "    faces.extend(jerusalem_cube(x + 4*size, y, z + 2*size, size, iterations-1))\n",
    "    faces.extend(jerusalem_cube(x + 4*size, y + 4*size, z + 2*size, size, iterations-1))\n",
    "\n",
    "    return faces\n",
    "\n",
    "def draw_jerusalem_cube(iterations):\n",
    "    faces = jerusalem_cube(0, 0, 0, 1, iterations)\n",
    "\n",
    "    x_vals, y_vals, z_vals, i_vals, j_vals, k_vals = [], [], [], [], [], []\n",
    "\n",
    "    for it, face in enumerate(faces):\n",
    "        for vertex in face:\n",
    "            x_vals.append(vertex[0])\n",
    "            y_vals.append(vertex[1])\n",
    "            z_vals.append(vertex[2])\n",
    "        if len(i_vals) < len(x_vals):\n",
    "            i_vals.append(3*it)\n",
    "            j_vals.append(3*it + 1)\n",
    "            k_vals.append(3*it + 2)\n",
    "\n",
    "    mesh = go.Mesh3d(x=x_vals, y=y_vals, z=z_vals,\n",
    "                     i=i_vals, j=j_vals, k=k_vals, facecolor=['cyan']*len(i_vals))\n",
    "    layout = go.Layout(scene=dict(aspectmode=\"cube\"))\n",
    "    figure = go.Figure(data=[mesh], layout=layout)\n",
    "    figure.show()"
   ]
  },
  {
   "cell_type": "code",
   "execution_count": null,
   "id": "2db59c58-9bea-4887-b26a-60363b04e431",
   "metadata": {},
   "outputs": [],
   "source": [
    "draw_jerusalem_cube(1)\n",
    "draw_jerusalem_cube(2)\n",
    "draw_jerusalem_cube(3)"
   ]
  },
  {
   "cell_type": "markdown",
   "id": "9ee48dfc-6668-4f97-a8ed-02194ae2b4a3",
   "metadata": {},
   "source": []
  }
 ],
 "metadata": {
  "kernelspec": {
   "display_name": "Python 3 (ipykernel)",
   "language": "python",
   "name": "python3"
  },
  "language_info": {
   "codemirror_mode": {
    "name": "ipython",
    "version": 3
   },
   "file_extension": ".py",
   "mimetype": "text/x-python",
   "name": "python",
   "nbconvert_exporter": "python",
   "pygments_lexer": "ipython3",
   "version": "3.11.7"
  }
 },
 "nbformat": 4,
 "nbformat_minor": 5
}
